{
 "cells": [
  {
   "cell_type": "markdown",
   "id": "cc4e1911",
   "metadata": {
    "papermill": {
     "duration": 0.007878,
     "end_time": "2024-12-07T00:10:15.242518",
     "exception": false,
     "start_time": "2024-12-07T00:10:15.234640",
     "status": "completed"
    },
    "tags": []
   },
   "source": [
    "**This notebook is an exercise in the [Intermediate Machine Learning](https://www.kaggle.com/learn/intermediate-machine-learning) course.  You can reference the tutorial at [this link](https://www.kaggle.com/alexisbcook/missing-values).**\n",
    "\n",
    "---\n"
   ]
  },
  {
   "cell_type": "markdown",
   "id": "5ed10cf9",
   "metadata": {
    "papermill": {
     "duration": 0.006824,
     "end_time": "2024-12-07T00:10:15.256612",
     "exception": false,
     "start_time": "2024-12-07T00:10:15.249788",
     "status": "completed"
    },
    "tags": []
   },
   "source": [
    "Now it's your turn to test your new knowledge of **missing values** handling. You'll probably find it makes a big difference.\n",
    "\n",
    "# Setup\n",
    "\n",
    "The questions will give you feedback on your work. Run the following cell to set up the feedback system."
   ]
  },
  {
   "cell_type": "code",
   "execution_count": 1,
   "id": "c2d43f45",
   "metadata": {
    "execution": {
     "iopub.execute_input": "2024-12-07T00:10:15.275636Z",
     "iopub.status.busy": "2024-12-07T00:10:15.275128Z",
     "iopub.status.idle": "2024-12-07T00:10:16.247204Z",
     "shell.execute_reply": "2024-12-07T00:10:16.246006Z"
    },
    "papermill": {
     "duration": 0.983266,
     "end_time": "2024-12-07T00:10:16.249736",
     "exception": false,
     "start_time": "2024-12-07T00:10:15.266470",
     "status": "completed"
    },
    "tags": []
   },
   "outputs": [
    {
     "name": "stdout",
     "output_type": "stream",
     "text": [
      "Setup Complete\n"
     ]
    }
   ],
   "source": [
    "# Set up code checking\n",
    "import os\n",
    "if not os.path.exists(\"../input/train.csv\"):\n",
    "    os.symlink(\"../input/home-data-for-ml-course/train.csv\", \"../input/train.csv\")  \n",
    "    os.symlink(\"../input/home-data-for-ml-course/test.csv\", \"../input/test.csv\") \n",
    "from learntools.core import binder\n",
    "binder.bind(globals())\n",
    "from learntools.ml_intermediate.ex2 import *\n",
    "print(\"Setup Complete\")"
   ]
  },
  {
   "cell_type": "markdown",
   "id": "faafa5d3",
   "metadata": {
    "papermill": {
     "duration": 0.0069,
     "end_time": "2024-12-07T00:10:16.264139",
     "exception": false,
     "start_time": "2024-12-07T00:10:16.257239",
     "status": "completed"
    },
    "tags": []
   },
   "source": [
    "In this exercise, you will work with data from the [Housing Prices Competition for Kaggle Learn Users](https://www.kaggle.com/c/home-data-for-ml-course). \n",
    "\n",
    "![Ames Housing dataset image](https://storage.googleapis.com/kaggle-media/learn/images/lTJVG4e.png)\n",
    "\n",
    "Run the next code cell without changes to load the training and validation sets in `X_train`, `X_valid`, `y_train`, and `y_valid`.  The test set is loaded in `X_test`."
   ]
  },
  {
   "cell_type": "code",
   "execution_count": 2,
   "id": "610dcec5",
   "metadata": {
    "execution": {
     "iopub.execute_input": "2024-12-07T00:10:16.280131Z",
     "iopub.status.busy": "2024-12-07T00:10:16.279639Z",
     "iopub.status.idle": "2024-12-07T00:10:17.849801Z",
     "shell.execute_reply": "2024-12-07T00:10:17.848878Z"
    },
    "papermill": {
     "duration": 1.580959,
     "end_time": "2024-12-07T00:10:17.852347",
     "exception": false,
     "start_time": "2024-12-07T00:10:16.271388",
     "status": "completed"
    },
    "tags": []
   },
   "outputs": [],
   "source": [
    "import pandas as pd\n",
    "from sklearn.model_selection import train_test_split\n",
    "\n",
    "# Read the data\n",
    "X_full = pd.read_csv('../input/train.csv', index_col='Id')\n",
    "X_test_full = pd.read_csv('../input/test.csv', index_col='Id')\n",
    "\n",
    "# Remove rows with missing target, separate target from predictors\n",
    "X_full.dropna(axis=0, subset=['SalePrice'], inplace=True)\n",
    "y = X_full.SalePrice\n",
    "X_full.drop(['SalePrice'], axis=1, inplace=True)\n",
    "\n",
    "# To keep things simple, we'll use only numerical predictors\n",
    "X = X_full.select_dtypes(exclude=['object'])\n",
    "X_test = X_test_full.select_dtypes(exclude=['object'])\n",
    "\n",
    "# Break off validation set from training data\n",
    "X_train, X_valid, y_train, y_valid = train_test_split(X, y, train_size=0.8, test_size=0.2,\n",
    "                                                      random_state=0)"
   ]
  },
  {
   "cell_type": "markdown",
   "id": "b391674b",
   "metadata": {
    "papermill": {
     "duration": 0.006915,
     "end_time": "2024-12-07T00:10:17.866603",
     "exception": false,
     "start_time": "2024-12-07T00:10:17.859688",
     "status": "completed"
    },
    "tags": []
   },
   "source": [
    "Use the next code cell to print the first five rows of the data."
   ]
  },
  {
   "cell_type": "code",
   "execution_count": 3,
   "id": "b14d7b1d",
   "metadata": {
    "execution": {
     "iopub.execute_input": "2024-12-07T00:10:17.883342Z",
     "iopub.status.busy": "2024-12-07T00:10:17.882238Z",
     "iopub.status.idle": "2024-12-07T00:10:17.907642Z",
     "shell.execute_reply": "2024-12-07T00:10:17.906412Z"
    },
    "papermill": {
     "duration": 0.036362,
     "end_time": "2024-12-07T00:10:17.910214",
     "exception": false,
     "start_time": "2024-12-07T00:10:17.873852",
     "status": "completed"
    },
    "tags": []
   },
   "outputs": [
    {
     "data": {
      "text/html": [
       "<div>\n",
       "<style scoped>\n",
       "    .dataframe tbody tr th:only-of-type {\n",
       "        vertical-align: middle;\n",
       "    }\n",
       "\n",
       "    .dataframe tbody tr th {\n",
       "        vertical-align: top;\n",
       "    }\n",
       "\n",
       "    .dataframe thead th {\n",
       "        text-align: right;\n",
       "    }\n",
       "</style>\n",
       "<table border=\"1\" class=\"dataframe\">\n",
       "  <thead>\n",
       "    <tr style=\"text-align: right;\">\n",
       "      <th></th>\n",
       "      <th>MSSubClass</th>\n",
       "      <th>LotFrontage</th>\n",
       "      <th>LotArea</th>\n",
       "      <th>OverallQual</th>\n",
       "      <th>OverallCond</th>\n",
       "      <th>YearBuilt</th>\n",
       "      <th>YearRemodAdd</th>\n",
       "      <th>MasVnrArea</th>\n",
       "      <th>BsmtFinSF1</th>\n",
       "      <th>BsmtFinSF2</th>\n",
       "      <th>...</th>\n",
       "      <th>GarageArea</th>\n",
       "      <th>WoodDeckSF</th>\n",
       "      <th>OpenPorchSF</th>\n",
       "      <th>EnclosedPorch</th>\n",
       "      <th>3SsnPorch</th>\n",
       "      <th>ScreenPorch</th>\n",
       "      <th>PoolArea</th>\n",
       "      <th>MiscVal</th>\n",
       "      <th>MoSold</th>\n",
       "      <th>YrSold</th>\n",
       "    </tr>\n",
       "    <tr>\n",
       "      <th>Id</th>\n",
       "      <th></th>\n",
       "      <th></th>\n",
       "      <th></th>\n",
       "      <th></th>\n",
       "      <th></th>\n",
       "      <th></th>\n",
       "      <th></th>\n",
       "      <th></th>\n",
       "      <th></th>\n",
       "      <th></th>\n",
       "      <th></th>\n",
       "      <th></th>\n",
       "      <th></th>\n",
       "      <th></th>\n",
       "      <th></th>\n",
       "      <th></th>\n",
       "      <th></th>\n",
       "      <th></th>\n",
       "      <th></th>\n",
       "      <th></th>\n",
       "      <th></th>\n",
       "    </tr>\n",
       "  </thead>\n",
       "  <tbody>\n",
       "    <tr>\n",
       "      <th>619</th>\n",
       "      <td>20</td>\n",
       "      <td>90.0</td>\n",
       "      <td>11694</td>\n",
       "      <td>9</td>\n",
       "      <td>5</td>\n",
       "      <td>2007</td>\n",
       "      <td>2007</td>\n",
       "      <td>452.0</td>\n",
       "      <td>48</td>\n",
       "      <td>0</td>\n",
       "      <td>...</td>\n",
       "      <td>774</td>\n",
       "      <td>0</td>\n",
       "      <td>108</td>\n",
       "      <td>0</td>\n",
       "      <td>0</td>\n",
       "      <td>260</td>\n",
       "      <td>0</td>\n",
       "      <td>0</td>\n",
       "      <td>7</td>\n",
       "      <td>2007</td>\n",
       "    </tr>\n",
       "    <tr>\n",
       "      <th>871</th>\n",
       "      <td>20</td>\n",
       "      <td>60.0</td>\n",
       "      <td>6600</td>\n",
       "      <td>5</td>\n",
       "      <td>5</td>\n",
       "      <td>1962</td>\n",
       "      <td>1962</td>\n",
       "      <td>0.0</td>\n",
       "      <td>0</td>\n",
       "      <td>0</td>\n",
       "      <td>...</td>\n",
       "      <td>308</td>\n",
       "      <td>0</td>\n",
       "      <td>0</td>\n",
       "      <td>0</td>\n",
       "      <td>0</td>\n",
       "      <td>0</td>\n",
       "      <td>0</td>\n",
       "      <td>0</td>\n",
       "      <td>8</td>\n",
       "      <td>2009</td>\n",
       "    </tr>\n",
       "    <tr>\n",
       "      <th>93</th>\n",
       "      <td>30</td>\n",
       "      <td>80.0</td>\n",
       "      <td>13360</td>\n",
       "      <td>5</td>\n",
       "      <td>7</td>\n",
       "      <td>1921</td>\n",
       "      <td>2006</td>\n",
       "      <td>0.0</td>\n",
       "      <td>713</td>\n",
       "      <td>0</td>\n",
       "      <td>...</td>\n",
       "      <td>432</td>\n",
       "      <td>0</td>\n",
       "      <td>0</td>\n",
       "      <td>44</td>\n",
       "      <td>0</td>\n",
       "      <td>0</td>\n",
       "      <td>0</td>\n",
       "      <td>0</td>\n",
       "      <td>8</td>\n",
       "      <td>2009</td>\n",
       "    </tr>\n",
       "    <tr>\n",
       "      <th>818</th>\n",
       "      <td>20</td>\n",
       "      <td>NaN</td>\n",
       "      <td>13265</td>\n",
       "      <td>8</td>\n",
       "      <td>5</td>\n",
       "      <td>2002</td>\n",
       "      <td>2002</td>\n",
       "      <td>148.0</td>\n",
       "      <td>1218</td>\n",
       "      <td>0</td>\n",
       "      <td>...</td>\n",
       "      <td>857</td>\n",
       "      <td>150</td>\n",
       "      <td>59</td>\n",
       "      <td>0</td>\n",
       "      <td>0</td>\n",
       "      <td>0</td>\n",
       "      <td>0</td>\n",
       "      <td>0</td>\n",
       "      <td>7</td>\n",
       "      <td>2008</td>\n",
       "    </tr>\n",
       "    <tr>\n",
       "      <th>303</th>\n",
       "      <td>20</td>\n",
       "      <td>118.0</td>\n",
       "      <td>13704</td>\n",
       "      <td>7</td>\n",
       "      <td>5</td>\n",
       "      <td>2001</td>\n",
       "      <td>2002</td>\n",
       "      <td>150.0</td>\n",
       "      <td>0</td>\n",
       "      <td>0</td>\n",
       "      <td>...</td>\n",
       "      <td>843</td>\n",
       "      <td>468</td>\n",
       "      <td>81</td>\n",
       "      <td>0</td>\n",
       "      <td>0</td>\n",
       "      <td>0</td>\n",
       "      <td>0</td>\n",
       "      <td>0</td>\n",
       "      <td>1</td>\n",
       "      <td>2006</td>\n",
       "    </tr>\n",
       "  </tbody>\n",
       "</table>\n",
       "<p>5 rows × 36 columns</p>\n",
       "</div>"
      ],
      "text/plain": [
       "     MSSubClass  LotFrontage  LotArea  OverallQual  OverallCond  YearBuilt  \\\n",
       "Id                                                                           \n",
       "619          20         90.0    11694            9            5       2007   \n",
       "871          20         60.0     6600            5            5       1962   \n",
       "93           30         80.0    13360            5            7       1921   \n",
       "818          20          NaN    13265            8            5       2002   \n",
       "303          20        118.0    13704            7            5       2001   \n",
       "\n",
       "     YearRemodAdd  MasVnrArea  BsmtFinSF1  BsmtFinSF2  ...  GarageArea  \\\n",
       "Id                                                     ...               \n",
       "619          2007       452.0          48           0  ...         774   \n",
       "871          1962         0.0           0           0  ...         308   \n",
       "93           2006         0.0         713           0  ...         432   \n",
       "818          2002       148.0        1218           0  ...         857   \n",
       "303          2002       150.0           0           0  ...         843   \n",
       "\n",
       "     WoodDeckSF  OpenPorchSF  EnclosedPorch  3SsnPorch  ScreenPorch  PoolArea  \\\n",
       "Id                                                                              \n",
       "619           0          108              0          0          260         0   \n",
       "871           0            0              0          0            0         0   \n",
       "93            0            0             44          0            0         0   \n",
       "818         150           59              0          0            0         0   \n",
       "303         468           81              0          0            0         0   \n",
       "\n",
       "     MiscVal  MoSold  YrSold  \n",
       "Id                            \n",
       "619        0       7    2007  \n",
       "871        0       8    2009  \n",
       "93         0       8    2009  \n",
       "818        0       7    2008  \n",
       "303        0       1    2006  \n",
       "\n",
       "[5 rows x 36 columns]"
      ]
     },
     "execution_count": 3,
     "metadata": {},
     "output_type": "execute_result"
    }
   ],
   "source": [
    "X_train.head()"
   ]
  },
  {
   "cell_type": "markdown",
   "id": "15d54e16",
   "metadata": {
    "papermill": {
     "duration": 0.007201,
     "end_time": "2024-12-07T00:10:17.925113",
     "exception": false,
     "start_time": "2024-12-07T00:10:17.917912",
     "status": "completed"
    },
    "tags": []
   },
   "source": [
    "You can already see a few missing values in the first several rows.  In the next step, you'll obtain a more comprehensive understanding of the missing values in the dataset.\n",
    "\n",
    "# Step 1: Preliminary investigation\n",
    "\n",
    "Run the code cell below without changes."
   ]
  },
  {
   "cell_type": "code",
   "execution_count": 4,
   "id": "7ef4fe5e",
   "metadata": {
    "execution": {
     "iopub.execute_input": "2024-12-07T00:10:17.942208Z",
     "iopub.status.busy": "2024-12-07T00:10:17.941770Z",
     "iopub.status.idle": "2024-12-07T00:10:17.949879Z",
     "shell.execute_reply": "2024-12-07T00:10:17.948593Z"
    },
    "papermill": {
     "duration": 0.019722,
     "end_time": "2024-12-07T00:10:17.952541",
     "exception": false,
     "start_time": "2024-12-07T00:10:17.932819",
     "status": "completed"
    },
    "tags": []
   },
   "outputs": [
    {
     "name": "stdout",
     "output_type": "stream",
     "text": [
      "(1168, 36)\n",
      "LotFrontage    212\n",
      "MasVnrArea       6\n",
      "GarageYrBlt     58\n",
      "dtype: int64\n"
     ]
    }
   ],
   "source": [
    "# Shape of training data (num_rows, num_columns)\n",
    "print(X_train.shape)\n",
    "\n",
    "# Number of missing values in each column of training data\n",
    "missing_val_count_by_column = (X_train.isnull().sum())\n",
    "print(missing_val_count_by_column[missing_val_count_by_column > 0])"
   ]
  },
  {
   "cell_type": "markdown",
   "id": "6b98bf80",
   "metadata": {
    "papermill": {
     "duration": 0.007294,
     "end_time": "2024-12-07T00:10:17.967634",
     "exception": false,
     "start_time": "2024-12-07T00:10:17.960340",
     "status": "completed"
    },
    "tags": []
   },
   "source": [
    "### Part A\n",
    "\n",
    "Use the above output to answer the questions below."
   ]
  },
  {
   "cell_type": "code",
   "execution_count": 5,
   "id": "0c19005c",
   "metadata": {
    "execution": {
     "iopub.execute_input": "2024-12-07T00:10:17.986395Z",
     "iopub.status.busy": "2024-12-07T00:10:17.986011Z",
     "iopub.status.idle": "2024-12-07T00:10:17.995313Z",
     "shell.execute_reply": "2024-12-07T00:10:17.994390Z"
    },
    "papermill": {
     "duration": 0.020722,
     "end_time": "2024-12-07T00:10:17.997617",
     "exception": false,
     "start_time": "2024-12-07T00:10:17.976895",
     "status": "completed"
    },
    "tags": []
   },
   "outputs": [
    {
     "data": {
      "application/javascript": [
       "parent.postMessage({\"jupyterEvent\": \"custom.exercise_interaction\", \"data\": {\"outcomeType\": 1, \"valueTowardsCompletion\": 1.0, \"interactionType\": 1, \"questionType\": 1, \"questionId\": \"1.1_InvestigateEquality\", \"learnToolsVersion\": \"0.3.4\", \"failureMessage\": \"\", \"exceptionClass\": \"\", \"trace\": \"\"}}, \"*\")"
      ],
      "text/plain": [
       "<IPython.core.display.Javascript object>"
      ]
     },
     "metadata": {},
     "output_type": "display_data"
    },
    {
     "data": {
      "text/markdown": [
       "<span style=\"color:#33cc33\">Correct</span>"
      ],
      "text/plain": [
       "Correct"
      ]
     },
     "metadata": {},
     "output_type": "display_data"
    }
   ],
   "source": [
    "###### Fill in the line below: How many rows are in the training data?\n",
    "num_rows = 1168\n",
    "\n",
    "# Fill in the line below: How many columns in the training data\n",
    "# have missing values?\n",
    "num_cols_with_missing = 3\n",
    "\n",
    "# Fill in the line below: How many missing entries are contained in \n",
    "# all of the training data?\n",
    "tot_missing = 276\n",
    "\n",
    "# Check your answers\n",
    "step_1.a.check()"
   ]
  },
  {
   "cell_type": "code",
   "execution_count": 6,
   "id": "8c67bcb6",
   "metadata": {
    "execution": {
     "iopub.execute_input": "2024-12-07T00:10:18.015527Z",
     "iopub.status.busy": "2024-12-07T00:10:18.015109Z",
     "iopub.status.idle": "2024-12-07T00:10:18.019938Z",
     "shell.execute_reply": "2024-12-07T00:10:18.018813Z"
    },
    "papermill": {
     "duration": 0.016195,
     "end_time": "2024-12-07T00:10:18.022085",
     "exception": false,
     "start_time": "2024-12-07T00:10:18.005890",
     "status": "completed"
    },
    "tags": []
   },
   "outputs": [],
   "source": [
    "# Lines below will give you a hint or solution code\n",
    "#step_1.a.hint()\n",
    "#step_1.a.solution()"
   ]
  },
  {
   "cell_type": "markdown",
   "id": "401b6d3c",
   "metadata": {
    "papermill": {
     "duration": 0.007597,
     "end_time": "2024-12-07T00:10:18.037585",
     "exception": false,
     "start_time": "2024-12-07T00:10:18.029988",
     "status": "completed"
    },
    "tags": []
   },
   "source": [
    "### Part B\n",
    "Considering your answers above, what do you think is likely the best approach to dealing with the missing values?"
   ]
  },
  {
   "cell_type": "markdown",
   "id": "a770ce9e",
   "metadata": {
    "papermill": {
     "duration": 0.007585,
     "end_time": "2024-12-07T00:10:18.053198",
     "exception": false,
     "start_time": "2024-12-07T00:10:18.045613",
     "status": "completed"
    },
    "tags": []
   },
   "source": [
    "drop those rows where values are missing or imputation of mean"
   ]
  },
  {
   "cell_type": "markdown",
   "id": "2134d7c3",
   "metadata": {
    "papermill": {
     "duration": 0.007463,
     "end_time": "2024-12-07T00:10:18.068541",
     "exception": false,
     "start_time": "2024-12-07T00:10:18.061078",
     "status": "completed"
    },
    "tags": []
   },
   "source": []
  },
  {
   "cell_type": "code",
   "execution_count": 7,
   "id": "50f9d7c2",
   "metadata": {
    "execution": {
     "iopub.execute_input": "2024-12-07T00:10:18.085825Z",
     "iopub.status.busy": "2024-12-07T00:10:18.085421Z",
     "iopub.status.idle": "2024-12-07T00:10:18.094428Z",
     "shell.execute_reply": "2024-12-07T00:10:18.093367Z"
    },
    "papermill": {
     "duration": 0.020325,
     "end_time": "2024-12-07T00:10:18.096701",
     "exception": false,
     "start_time": "2024-12-07T00:10:18.076376",
     "status": "completed"
    },
    "tags": []
   },
   "outputs": [
    {
     "data": {
      "application/javascript": [
       "parent.postMessage({\"jupyterEvent\": \"custom.exercise_interaction\", \"data\": {\"outcomeType\": 1, \"valueTowardsCompletion\": 1.0, \"interactionType\": 1, \"questionType\": 4, \"questionId\": \"1.2_InvestigateThought\", \"learnToolsVersion\": \"0.3.4\", \"failureMessage\": \"\", \"exceptionClass\": \"\", \"trace\": \"\"}}, \"*\")"
      ],
      "text/plain": [
       "<IPython.core.display.Javascript object>"
      ]
     },
     "metadata": {},
     "output_type": "display_data"
    },
    {
     "data": {
      "text/markdown": [
       "<span style=\"color:#33cc33\">Correct:</span> \n",
       "\n",
       "Since there are relatively few missing entries in the data (the column with the greatest percentage of missing values is missing less than 20% of its entries), we can expect that dropping columns is unlikely to yield good results.  This is because we'd be throwing away a lot of valuable data, and so imputation will likely perform better."
      ],
      "text/plain": [
       "Correct: \n",
       "\n",
       "Since there are relatively few missing entries in the data (the column with the greatest percentage of missing values is missing less than 20% of its entries), we can expect that dropping columns is unlikely to yield good results.  This is because we'd be throwing away a lot of valuable data, and so imputation will likely perform better."
      ]
     },
     "metadata": {},
     "output_type": "display_data"
    }
   ],
   "source": [
    "# Check your answer (Run this code cell to receive credit!)\n",
    "step_1.b.check()"
   ]
  },
  {
   "cell_type": "code",
   "execution_count": 8,
   "id": "9810eb4e",
   "metadata": {
    "execution": {
     "iopub.execute_input": "2024-12-07T00:10:18.115076Z",
     "iopub.status.busy": "2024-12-07T00:10:18.114561Z",
     "iopub.status.idle": "2024-12-07T00:10:18.119558Z",
     "shell.execute_reply": "2024-12-07T00:10:18.118345Z"
    },
    "papermill": {
     "duration": 0.016542,
     "end_time": "2024-12-07T00:10:18.121717",
     "exception": false,
     "start_time": "2024-12-07T00:10:18.105175",
     "status": "completed"
    },
    "tags": []
   },
   "outputs": [],
   "source": [
    "#step_1.b.hint()"
   ]
  },
  {
   "cell_type": "markdown",
   "id": "4cba376c",
   "metadata": {
    "papermill": {
     "duration": 0.007738,
     "end_time": "2024-12-07T00:10:18.137586",
     "exception": false,
     "start_time": "2024-12-07T00:10:18.129848",
     "status": "completed"
    },
    "tags": []
   },
   "source": [
    "To compare different approaches to dealing with missing values, you'll use the same `score_dataset()` function from the tutorial.  This function reports the [mean absolute error](https://en.wikipedia.org/wiki/Mean_absolute_error) (MAE) from a random forest model."
   ]
  },
  {
   "cell_type": "code",
   "execution_count": 9,
   "id": "9ca8f4c8",
   "metadata": {
    "execution": {
     "iopub.execute_input": "2024-12-07T00:10:18.156396Z",
     "iopub.status.busy": "2024-12-07T00:10:18.155941Z",
     "iopub.status.idle": "2024-12-07T00:10:18.524826Z",
     "shell.execute_reply": "2024-12-07T00:10:18.523632Z"
    },
    "papermill": {
     "duration": 0.381033,
     "end_time": "2024-12-07T00:10:18.527572",
     "exception": false,
     "start_time": "2024-12-07T00:10:18.146539",
     "status": "completed"
    },
    "tags": []
   },
   "outputs": [],
   "source": [
    "from sklearn.ensemble import RandomForestRegressor\n",
    "from sklearn.metrics import mean_absolute_error\n",
    "\n",
    "# Function for comparing different approaches\n",
    "def score_dataset(X_train, X_valid, y_train, y_valid):\n",
    "    model = RandomForestRegressor(n_estimators=100, random_state=0)\n",
    "    model.fit(X_train, y_train)\n",
    "    preds = model.predict(X_valid)\n",
    "    return mean_absolute_error(y_valid, preds)"
   ]
  },
  {
   "cell_type": "markdown",
   "id": "0ed71fe3",
   "metadata": {
    "papermill": {
     "duration": 0.007806,
     "end_time": "2024-12-07T00:10:18.543794",
     "exception": false,
     "start_time": "2024-12-07T00:10:18.535988",
     "status": "completed"
    },
    "tags": []
   },
   "source": [
    "# Step 2: Drop columns with missing values\n",
    "\n",
    "In this step, you'll preprocess the data in `X_train` and `X_valid` to remove columns with missing values.  Set the preprocessed DataFrames to `reduced_X_train` and `reduced_X_valid`, respectively.  "
   ]
  },
  {
   "cell_type": "code",
   "execution_count": 10,
   "id": "5050fb41",
   "metadata": {
    "execution": {
     "iopub.execute_input": "2024-12-07T00:10:18.561555Z",
     "iopub.status.busy": "2024-12-07T00:10:18.561127Z",
     "iopub.status.idle": "2024-12-07T00:10:18.586251Z",
     "shell.execute_reply": "2024-12-07T00:10:18.585119Z"
    },
    "papermill": {
     "duration": 0.036581,
     "end_time": "2024-12-07T00:10:18.588417",
     "exception": false,
     "start_time": "2024-12-07T00:10:18.551836",
     "status": "completed"
    },
    "tags": []
   },
   "outputs": [
    {
     "data": {
      "application/javascript": [
       "parent.postMessage({\"jupyterEvent\": \"custom.exercise_interaction\", \"data\": {\"outcomeType\": 1, \"valueTowardsCompletion\": 1.0, \"interactionType\": 1, \"questionType\": 2, \"questionId\": \"2_DropMissing\", \"learnToolsVersion\": \"0.3.4\", \"failureMessage\": \"\", \"exceptionClass\": \"\", \"trace\": \"\"}}, \"*\")"
      ],
      "text/plain": [
       "<IPython.core.display.Javascript object>"
      ]
     },
     "metadata": {},
     "output_type": "display_data"
    },
    {
     "data": {
      "text/markdown": [
       "<span style=\"color:#33cc33\">Correct</span>"
      ],
      "text/plain": [
       "Correct"
      ]
     },
     "metadata": {},
     "output_type": "display_data"
    }
   ],
   "source": [
    "# Fill in the line below: get names of columns with missing values\n",
    "missing_cols = [col for col in X_train.columns if X_train[col].isnull().any()] # Your code here\n",
    "\n",
    "# Fill in the lines below: drop columns in training and validation data\n",
    "reduced_X_train = X_train.drop(missing_cols, axis=1)\n",
    "reduced_X_valid = X_valid.drop(missing_cols, axis=1)\n",
    "\n",
    "# Check your answers\n",
    "step_2.check()"
   ]
  },
  {
   "cell_type": "code",
   "execution_count": 11,
   "id": "1a23b715",
   "metadata": {
    "execution": {
     "iopub.execute_input": "2024-12-07T00:10:18.607084Z",
     "iopub.status.busy": "2024-12-07T00:10:18.606650Z",
     "iopub.status.idle": "2024-12-07T00:10:18.611196Z",
     "shell.execute_reply": "2024-12-07T00:10:18.610177Z"
    },
    "papermill": {
     "duration": 0.016504,
     "end_time": "2024-12-07T00:10:18.613205",
     "exception": false,
     "start_time": "2024-12-07T00:10:18.596701",
     "status": "completed"
    },
    "tags": []
   },
   "outputs": [],
   "source": [
    "# Lines below will give you a hint or solution code\n",
    "#step_2.hint()\n",
    "#step_2.solution()"
   ]
  },
  {
   "cell_type": "markdown",
   "id": "b192c4d5",
   "metadata": {
    "papermill": {
     "duration": 0.007985,
     "end_time": "2024-12-07T00:10:18.629385",
     "exception": false,
     "start_time": "2024-12-07T00:10:18.621400",
     "status": "completed"
    },
    "tags": []
   },
   "source": [
    "Run the next code cell without changes to obtain the MAE for this approach."
   ]
  },
  {
   "cell_type": "code",
   "execution_count": 12,
   "id": "011802c1",
   "metadata": {
    "execution": {
     "iopub.execute_input": "2024-12-07T00:10:18.648231Z",
     "iopub.status.busy": "2024-12-07T00:10:18.647069Z",
     "iopub.status.idle": "2024-12-07T00:10:19.908988Z",
     "shell.execute_reply": "2024-12-07T00:10:19.907571Z"
    },
    "papermill": {
     "duration": 1.273536,
     "end_time": "2024-12-07T00:10:19.911171",
     "exception": false,
     "start_time": "2024-12-07T00:10:18.637635",
     "status": "completed"
    },
    "tags": []
   },
   "outputs": [
    {
     "name": "stdout",
     "output_type": "stream",
     "text": [
      "MAE (Drop columns with missing values):\n",
      "17837.82570776256\n"
     ]
    }
   ],
   "source": [
    "print(\"MAE (Drop columns with missing values):\")\n",
    "print(score_dataset(reduced_X_train, reduced_X_valid, y_train, y_valid))"
   ]
  },
  {
   "cell_type": "markdown",
   "id": "497e2c82",
   "metadata": {
    "papermill": {
     "duration": 0.007885,
     "end_time": "2024-12-07T00:10:19.927462",
     "exception": false,
     "start_time": "2024-12-07T00:10:19.919577",
     "status": "completed"
    },
    "tags": []
   },
   "source": [
    "# Step 3: Imputation\n",
    "\n",
    "### Part A\n",
    "\n",
    "Use the next code cell to impute missing values with the mean value along each column.  Set the preprocessed DataFrames to `imputed_X_train` and `imputed_X_valid`.  Make sure that the column names match those in `X_train` and `X_valid`."
   ]
  },
  {
   "cell_type": "code",
   "execution_count": 13,
   "id": "f4547993",
   "metadata": {
    "execution": {
     "iopub.execute_input": "2024-12-07T00:10:19.946602Z",
     "iopub.status.busy": "2024-12-07T00:10:19.945814Z",
     "iopub.status.idle": "2024-12-07T00:10:19.975272Z",
     "shell.execute_reply": "2024-12-07T00:10:19.974188Z"
    },
    "papermill": {
     "duration": 0.041338,
     "end_time": "2024-12-07T00:10:19.977592",
     "exception": false,
     "start_time": "2024-12-07T00:10:19.936254",
     "status": "completed"
    },
    "tags": []
   },
   "outputs": [
    {
     "data": {
      "application/javascript": [
       "parent.postMessage({\"jupyterEvent\": \"custom.exercise_interaction\", \"data\": {\"outcomeType\": 1, \"valueTowardsCompletion\": 1.0, \"interactionType\": 1, \"questionType\": 2, \"questionId\": \"3.1_ImputeCode\", \"learnToolsVersion\": \"0.3.4\", \"failureMessage\": \"\", \"exceptionClass\": \"\", \"trace\": \"\"}}, \"*\")"
      ],
      "text/plain": [
       "<IPython.core.display.Javascript object>"
      ]
     },
     "metadata": {},
     "output_type": "display_data"
    },
    {
     "data": {
      "text/markdown": [
       "<span style=\"color:#33cc33\">Correct</span>"
      ],
      "text/plain": [
       "Correct"
      ]
     },
     "metadata": {},
     "output_type": "display_data"
    }
   ],
   "source": [
    "from sklearn.impute import SimpleImputer\n",
    "\n",
    "# Fill in the lines below: imputation\n",
    "imputer = SimpleImputer(strategy='mean') # Your code here\n",
    "imputed_X_train = pd.DataFrame(imputer.fit_transform(X_train))\n",
    "imputed_X_valid = pd.DataFrame(imputer.transform(X_valid))\n",
    "\n",
    "# Fill in the lines below: imputation removed column names; put them back\n",
    "imputed_X_train.columns = X_train.columns\n",
    "imputed_X_valid.columns = X_valid.columns\n",
    "\n",
    "# Check your answers\n",
    "step_3.a.check()"
   ]
  },
  {
   "cell_type": "code",
   "execution_count": 14,
   "id": "f7d0801c",
   "metadata": {
    "execution": {
     "iopub.execute_input": "2024-12-07T00:10:19.997574Z",
     "iopub.status.busy": "2024-12-07T00:10:19.997221Z",
     "iopub.status.idle": "2024-12-07T00:10:20.001797Z",
     "shell.execute_reply": "2024-12-07T00:10:20.000856Z"
    },
    "papermill": {
     "duration": 0.016431,
     "end_time": "2024-12-07T00:10:20.003840",
     "exception": false,
     "start_time": "2024-12-07T00:10:19.987409",
     "status": "completed"
    },
    "tags": []
   },
   "outputs": [],
   "source": [
    "# Lines below will give you a hint or solution code\n",
    "#step_3.a.hint()\n",
    "#step_3.a.solution()"
   ]
  },
  {
   "cell_type": "markdown",
   "id": "c077f59e",
   "metadata": {
    "papermill": {
     "duration": 0.008007,
     "end_time": "2024-12-07T00:10:20.020440",
     "exception": false,
     "start_time": "2024-12-07T00:10:20.012433",
     "status": "completed"
    },
    "tags": []
   },
   "source": [
    "Run the next code cell without changes to obtain the MAE for this approach."
   ]
  },
  {
   "cell_type": "code",
   "execution_count": 15,
   "id": "000e74f5",
   "metadata": {
    "execution": {
     "iopub.execute_input": "2024-12-07T00:10:20.039143Z",
     "iopub.status.busy": "2024-12-07T00:10:20.038381Z",
     "iopub.status.idle": "2024-12-07T00:10:21.455978Z",
     "shell.execute_reply": "2024-12-07T00:10:21.454530Z"
    },
    "papermill": {
     "duration": 1.429619,
     "end_time": "2024-12-07T00:10:21.458486",
     "exception": false,
     "start_time": "2024-12-07T00:10:20.028867",
     "status": "completed"
    },
    "tags": []
   },
   "outputs": [
    {
     "name": "stdout",
     "output_type": "stream",
     "text": [
      "MAE (Imputation):\n",
      "18062.894611872147\n"
     ]
    }
   ],
   "source": [
    "print(\"MAE (Imputation):\")\n",
    "print(score_dataset(imputed_X_train, imputed_X_valid, y_train, y_valid))"
   ]
  },
  {
   "cell_type": "markdown",
   "id": "7a2330da",
   "metadata": {
    "papermill": {
     "duration": 0.008284,
     "end_time": "2024-12-07T00:10:21.475790",
     "exception": false,
     "start_time": "2024-12-07T00:10:21.467506",
     "status": "completed"
    },
    "tags": []
   },
   "source": [
    "### Part B\n",
    "\n",
    "Compare the MAE from each approach.  Does anything surprise you about the results?  Why do you think one approach performed better than the other?"
   ]
  },
  {
   "cell_type": "code",
   "execution_count": 16,
   "id": "c01cb318",
   "metadata": {
    "execution": {
     "iopub.execute_input": "2024-12-07T00:10:21.494931Z",
     "iopub.status.busy": "2024-12-07T00:10:21.494537Z",
     "iopub.status.idle": "2024-12-07T00:10:21.503827Z",
     "shell.execute_reply": "2024-12-07T00:10:21.502580Z"
    },
    "papermill": {
     "duration": 0.021865,
     "end_time": "2024-12-07T00:10:21.506535",
     "exception": false,
     "start_time": "2024-12-07T00:10:21.484670",
     "status": "completed"
    },
    "tags": []
   },
   "outputs": [
    {
     "data": {
      "application/javascript": [
       "parent.postMessage({\"jupyterEvent\": \"custom.exercise_interaction\", \"data\": {\"outcomeType\": 1, \"valueTowardsCompletion\": 1.0, \"interactionType\": 1, \"questionType\": 4, \"questionId\": \"3.2_ImputeThought\", \"learnToolsVersion\": \"0.3.4\", \"failureMessage\": \"\", \"exceptionClass\": \"\", \"trace\": \"\"}}, \"*\")"
      ],
      "text/plain": [
       "<IPython.core.display.Javascript object>"
      ]
     },
     "metadata": {},
     "output_type": "display_data"
    },
    {
     "data": {
      "text/markdown": [
       "<span style=\"color:#33cc33\">Correct:</span> \n",
       "\n",
       "Given that thre are so few missing values in the dataset, we'd expect imputation to perform better than dropping columns entirely.  However, we see that dropping columns performs slightly better!  While this can probably partially be attributed to noise in the dataset, another potential explanation is that the imputation method is not a great match to this dataset.  That is, maybe instead of filling in the mean value, it makes more sense to set every missing value to a value of 0, to fill in the most frequently encountered value, or to use some other method.  For instance, consider the `GarageYrBlt` column (which indicates the year that the garage was built).  It's likely that in some cases, a missing value could indicate a house that does not have a garage.  Does it make more sense to fill in the median value along each column in this case?  Or could we get better results by filling in the minimum value along each column?  It's not quite clear what's best in this case, but perhaps we can rule out some options immediately - for instance, setting missing values in this column to 0 is likely to yield horrible results!"
      ],
      "text/plain": [
       "Correct: \n",
       "\n",
       "Given that thre are so few missing values in the dataset, we'd expect imputation to perform better than dropping columns entirely.  However, we see that dropping columns performs slightly better!  While this can probably partially be attributed to noise in the dataset, another potential explanation is that the imputation method is not a great match to this dataset.  That is, maybe instead of filling in the mean value, it makes more sense to set every missing value to a value of 0, to fill in the most frequently encountered value, or to use some other method.  For instance, consider the `GarageYrBlt` column (which indicates the year that the garage was built).  It's likely that in some cases, a missing value could indicate a house that does not have a garage.  Does it make more sense to fill in the median value along each column in this case?  Or could we get better results by filling in the minimum value along each column?  It's not quite clear what's best in this case, but perhaps we can rule out some options immediately - for instance, setting missing values in this column to 0 is likely to yield horrible results!"
      ]
     },
     "metadata": {},
     "output_type": "display_data"
    }
   ],
   "source": [
    "# Check your answer (Run this code cell to receive credit!)\n",
    "step_3.b.check()"
   ]
  },
  {
   "cell_type": "code",
   "execution_count": 17,
   "id": "7cb41e5c",
   "metadata": {
    "execution": {
     "iopub.execute_input": "2024-12-07T00:10:21.532410Z",
     "iopub.status.busy": "2024-12-07T00:10:21.531891Z",
     "iopub.status.idle": "2024-12-07T00:10:21.537292Z",
     "shell.execute_reply": "2024-12-07T00:10:21.536167Z"
    },
    "papermill": {
     "duration": 0.01979,
     "end_time": "2024-12-07T00:10:21.540300",
     "exception": false,
     "start_time": "2024-12-07T00:10:21.520510",
     "status": "completed"
    },
    "tags": []
   },
   "outputs": [],
   "source": [
    "#step_3.b.hint()"
   ]
  },
  {
   "cell_type": "markdown",
   "id": "c7ac8ba7",
   "metadata": {
    "papermill": {
     "duration": 0.013043,
     "end_time": "2024-12-07T00:10:21.568817",
     "exception": false,
     "start_time": "2024-12-07T00:10:21.555774",
     "status": "completed"
    },
    "tags": []
   },
   "source": [
    "# Step 4: Generate test predictions\n",
    "\n",
    "In this final step, you'll use any approach of your choosing to deal with missing values.  Once you've preprocessed the training and validation features, you'll train and evaluate a random forest model.  Then, you'll preprocess the test data before generating predictions that can be submitted to the competition!\n",
    "\n",
    "### Part A\n",
    "\n",
    "Use the next code cell to preprocess the training and validation data.  Set the preprocessed DataFrames to `final_X_train` and `final_X_valid`.  **You can use any approach of your choosing here!**  in order for this step to be marked as correct, you need only ensure:\n",
    "- the preprocessed DataFrames have the same number of columns,\n",
    "- the preprocessed DataFrames have no missing values, \n",
    "- `final_X_train` and `y_train` have the same number of rows, and\n",
    "- `final_X_valid` and `y_valid` have the same number of rows."
   ]
  },
  {
   "cell_type": "code",
   "execution_count": 18,
   "id": "6c80ef37",
   "metadata": {
    "execution": {
     "iopub.execute_input": "2024-12-07T00:10:21.589886Z",
     "iopub.status.busy": "2024-12-07T00:10:21.589374Z",
     "iopub.status.idle": "2024-12-07T00:10:21.621882Z",
     "shell.execute_reply": "2024-12-07T00:10:21.620662Z"
    },
    "papermill": {
     "duration": 0.046938,
     "end_time": "2024-12-07T00:10:21.624871",
     "exception": false,
     "start_time": "2024-12-07T00:10:21.577933",
     "status": "completed"
    },
    "tags": []
   },
   "outputs": [
    {
     "data": {
      "application/javascript": [
       "parent.postMessage({\"jupyterEvent\": \"custom.exercise_interaction\", \"data\": {\"outcomeType\": 1, \"valueTowardsCompletion\": 1.0, \"interactionType\": 1, \"questionType\": 2, \"questionId\": \"4.1_PredsCodeA\", \"learnToolsVersion\": \"0.3.4\", \"failureMessage\": \"\", \"exceptionClass\": \"\", \"trace\": \"\"}}, \"*\")"
      ],
      "text/plain": [
       "<IPython.core.display.Javascript object>"
      ]
     },
     "metadata": {},
     "output_type": "display_data"
    },
    {
     "data": {
      "text/markdown": [
       "<span style=\"color:#33cc33\">Correct</span>"
      ],
      "text/plain": [
       "Correct"
      ]
     },
     "metadata": {},
     "output_type": "display_data"
    }
   ],
   "source": [
    "# Preprocessed training and validation features\n",
    "final_X_train = pd.DataFrame(imputer.fit_transform(X_train), columns=X_train.columns, index=X_train.index)\n",
    "final_X_valid = pd.DataFrame(imputer.transform(X_valid), columns=X_valid.columns, index=X_valid.index )\n",
    "\n",
    "assert final_X_train.shape[1] == final_X_valid.shape[1], \"Mismatch in the number of columns!\"\n",
    "\n",
    "assert not any(pd.DataFrame(final_X_train).isnull().sum()), \"Missing values found in final_X_train!\"\n",
    "\n",
    "assert not any(pd.DataFrame(final_X_valid).isnull().sum()), \"Missing values found in final_X_valid!\"\n",
    "\n",
    "assert final_X_train.shape[0] == len(y_train), \"Row mismatch between final_X_train and y_train\"\n",
    "\n",
    "assert final_X_valid.shape[0] == len(y_valid), \"Row mismatch between final_X_valid and y_valid\"\n",
    "\n",
    "\n",
    "# Check your answers\n",
    "step_4.a.check()"
   ]
  },
  {
   "cell_type": "code",
   "execution_count": 19,
   "id": "f9bf27ba",
   "metadata": {
    "execution": {
     "iopub.execute_input": "2024-12-07T00:10:21.653779Z",
     "iopub.status.busy": "2024-12-07T00:10:21.653263Z",
     "iopub.status.idle": "2024-12-07T00:10:21.658655Z",
     "shell.execute_reply": "2024-12-07T00:10:21.657355Z"
    },
    "papermill": {
     "duration": 0.019593,
     "end_time": "2024-12-07T00:10:21.661035",
     "exception": false,
     "start_time": "2024-12-07T00:10:21.641442",
     "status": "completed"
    },
    "tags": []
   },
   "outputs": [],
   "source": [
    "# Lines below will give you a hint or solution code\n",
    "#step_4.a.hint()\n",
    "#step_4.a.solution()"
   ]
  },
  {
   "cell_type": "markdown",
   "id": "cb3a18a7",
   "metadata": {
    "papermill": {
     "duration": 0.01269,
     "end_time": "2024-12-07T00:10:21.686846",
     "exception": false,
     "start_time": "2024-12-07T00:10:21.674156",
     "status": "completed"
    },
    "tags": []
   },
   "source": [
    "Run the next code cell to train and evaluate a random forest model.  (*Note that we don't use the `score_dataset()` function above, because we will soon use the trained model to generate test predictions!*)"
   ]
  },
  {
   "cell_type": "code",
   "execution_count": 20,
   "id": "a0d77dba",
   "metadata": {
    "execution": {
     "iopub.execute_input": "2024-12-07T00:10:21.707583Z",
     "iopub.status.busy": "2024-12-07T00:10:21.707054Z",
     "iopub.status.idle": "2024-12-07T00:10:23.097993Z",
     "shell.execute_reply": "2024-12-07T00:10:23.096891Z"
    },
    "papermill": {
     "duration": 1.404079,
     "end_time": "2024-12-07T00:10:23.100290",
     "exception": false,
     "start_time": "2024-12-07T00:10:21.696211",
     "status": "completed"
    },
    "tags": []
   },
   "outputs": [
    {
     "name": "stdout",
     "output_type": "stream",
     "text": [
      "MAE (Your approach):\n",
      "18062.894611872147\n"
     ]
    }
   ],
   "source": [
    "# Define and fit model\n",
    "model = RandomForestRegressor(n_estimators=100, random_state=0)\n",
    "model.fit(final_X_train, y_train)\n",
    "\n",
    "# Get validation predictions and MAE\n",
    "preds_valid = model.predict(final_X_valid)\n",
    "print(\"MAE (Your approach):\")\n",
    "print(mean_absolute_error(y_valid, preds_valid))"
   ]
  },
  {
   "cell_type": "markdown",
   "id": "1226cbfc",
   "metadata": {
    "papermill": {
     "duration": 0.008921,
     "end_time": "2024-12-07T00:10:23.118426",
     "exception": false,
     "start_time": "2024-12-07T00:10:23.109505",
     "status": "completed"
    },
    "tags": []
   },
   "source": [
    "### Part B\n",
    "\n",
    "Use the next code cell to preprocess your test data.  Make sure that you use a method that agrees with how you preprocessed the training and validation data, and set the preprocessed test features to `final_X_test`.\n",
    "\n",
    "Then, use the preprocessed test features and the trained model to generate test predictions in `preds_test`.\n",
    "\n",
    "In order for this step to be marked correct, you need only ensure:\n",
    "- the preprocessed test DataFrame has no missing values, and\n",
    "- `final_X_test` has the same number of rows as `X_test`."
   ]
  },
  {
   "cell_type": "code",
   "execution_count": 21,
   "id": "a97b2d51",
   "metadata": {
    "execution": {
     "iopub.execute_input": "2024-12-07T00:10:23.138842Z",
     "iopub.status.busy": "2024-12-07T00:10:23.138479Z",
     "iopub.status.idle": "2024-12-07T00:10:23.180652Z",
     "shell.execute_reply": "2024-12-07T00:10:23.179531Z"
    },
    "papermill": {
     "duration": 0.05534,
     "end_time": "2024-12-07T00:10:23.182927",
     "exception": false,
     "start_time": "2024-12-07T00:10:23.127587",
     "status": "completed"
    },
    "tags": []
   },
   "outputs": [
    {
     "data": {
      "application/javascript": [
       "parent.postMessage({\"jupyterEvent\": \"custom.exercise_interaction\", \"data\": {\"outcomeType\": 1, \"valueTowardsCompletion\": 1.0, \"interactionType\": 1, \"questionType\": 2, \"questionId\": \"4.2_PredsCodeB\", \"learnToolsVersion\": \"0.3.4\", \"failureMessage\": \"\", \"exceptionClass\": \"\", \"trace\": \"\"}}, \"*\")"
      ],
      "text/plain": [
       "<IPython.core.display.Javascript object>"
      ]
     },
     "metadata": {},
     "output_type": "display_data"
    },
    {
     "data": {
      "text/markdown": [
       "<span style=\"color:#33cc33\">Correct</span>"
      ],
      "text/plain": [
       "Correct"
      ]
     },
     "metadata": {},
     "output_type": "display_data"
    }
   ],
   "source": [
    "# Fill in the line below: preprocess test data\n",
    "final_X_test = pd.DataFrame(imputer.transform(X_test), columns=X_test.columns, index=X_test.index)\n",
    "\n",
    "# Fill in the line below: get test predictions\n",
    "preds_test = model.predict(final_X_test)\n",
    "\n",
    "# Check your answers\n",
    "step_4.b.check()"
   ]
  },
  {
   "cell_type": "code",
   "execution_count": 22,
   "id": "760f7fa1",
   "metadata": {
    "execution": {
     "iopub.execute_input": "2024-12-07T00:10:23.203772Z",
     "iopub.status.busy": "2024-12-07T00:10:23.203403Z",
     "iopub.status.idle": "2024-12-07T00:10:23.208012Z",
     "shell.execute_reply": "2024-12-07T00:10:23.206724Z"
    },
    "papermill": {
     "duration": 0.017631,
     "end_time": "2024-12-07T00:10:23.210274",
     "exception": false,
     "start_time": "2024-12-07T00:10:23.192643",
     "status": "completed"
    },
    "tags": []
   },
   "outputs": [],
   "source": [
    "# Lines below will give you a hint or solution code\n",
    "#step_4.b.hint()\n",
    "#step_4.b.solution()"
   ]
  },
  {
   "cell_type": "markdown",
   "id": "6529be27",
   "metadata": {
    "papermill": {
     "duration": 0.009286,
     "end_time": "2024-12-07T00:10:23.229042",
     "exception": false,
     "start_time": "2024-12-07T00:10:23.219756",
     "status": "completed"
    },
    "tags": []
   },
   "source": [
    "Run the next code cell without changes to save your results to a CSV file that can be submitted directly to the competition."
   ]
  },
  {
   "cell_type": "code",
   "execution_count": 23,
   "id": "9c16746b",
   "metadata": {
    "execution": {
     "iopub.execute_input": "2024-12-07T00:10:23.250498Z",
     "iopub.status.busy": "2024-12-07T00:10:23.249692Z",
     "iopub.status.idle": "2024-12-07T00:10:23.261376Z",
     "shell.execute_reply": "2024-12-07T00:10:23.260279Z"
    },
    "papermill": {
     "duration": 0.025541,
     "end_time": "2024-12-07T00:10:23.264015",
     "exception": false,
     "start_time": "2024-12-07T00:10:23.238474",
     "status": "completed"
    },
    "tags": []
   },
   "outputs": [],
   "source": [
    "# Save test predictions to file\n",
    "output = pd.DataFrame({'Id': X_test.index,\n",
    "                       'SalePrice': preds_test})\n",
    "output.to_csv('submission.csv', index=False)"
   ]
  },
  {
   "cell_type": "markdown",
   "id": "466180bd",
   "metadata": {
    "papermill": {
     "duration": 0.009559,
     "end_time": "2024-12-07T00:10:23.283272",
     "exception": false,
     "start_time": "2024-12-07T00:10:23.273713",
     "status": "completed"
    },
    "tags": []
   },
   "source": [
    "# Submit your results\n",
    "\n",
    "Once you have successfully completed Step 4, you're ready to submit your results to the leaderboard!  (_You also learned how to do this in the previous exercise.  If you need a reminder of how to do this, please use the instructions below._)  \n",
    "\n",
    "First, you'll need to join the competition if you haven't already.  So open a new window by clicking on [this link](https://www.kaggle.com/c/home-data-for-ml-course).  Then click on the **Join Competition** button.\n",
    "\n",
    "![join competition image](https://storage.googleapis.com/kaggle-media/learn/images/wLmFtH3.png)\n",
    "\n",
    "Next, follow the instructions below:\n",
    "1. Begin by clicking on the **Save Version** button in the top right corner of the window.  This will generate a pop-up window.  \n",
    "2. Ensure that the **Save and Run All** option is selected, and then click on the **Save** button.\n",
    "3. This generates a window in the bottom left corner of the notebook.  After it has finished running, click on the number to the right of the **Save Version** button.  This pulls up a list of versions on the right of the screen.  Click on the ellipsis **(...)** to the right of the most recent version, and select **Open in Viewer**.  This brings you into view mode of the same page. You will need to scroll down to get back to these instructions.\n",
    "4. Click on the **Data** tab near the top of the screen.  Then, click on the file you would like to submit, and click on the **Submit** button to submit your results to the leaderboard.\n",
    "\n",
    "You have now successfully submitted to the competition!\n",
    "\n",
    "If you want to keep working to improve your performance, select the **Edit** button in the top right of the screen. Then you can change your code and repeat the process. There's a lot of room to improve, and you will climb up the leaderboard as you work.\n",
    "\n",
    "\n",
    "# Keep going\n",
    "\n",
    "Move on to learn what **[categorical variables](https://www.kaggle.com/alexisbcook/categorical-variables)** are, along with how to incorporate them into your machine learning models.  Categorical variables are very common in real-world data, but you'll get an error if you try to plug them into your models without processing them first!"
   ]
  },
  {
   "cell_type": "markdown",
   "id": "eb8a4798",
   "metadata": {
    "papermill": {
     "duration": 0.009398,
     "end_time": "2024-12-07T00:10:23.302082",
     "exception": false,
     "start_time": "2024-12-07T00:10:23.292684",
     "status": "completed"
    },
    "tags": []
   },
   "source": [
    "---\n",
    "\n",
    "\n",
    "\n",
    "\n",
    "*Have questions or comments? Visit the [course discussion forum](https://www.kaggle.com/learn/intermediate-machine-learning/discussion) to chat with other learners.*"
   ]
  }
 ],
 "metadata": {
  "kaggle": {
   "accelerator": "none",
   "dataSources": [
    {
     "databundleVersionId": 111096,
     "sourceId": 10211,
     "sourceType": "competition"
    }
   ],
   "isGpuEnabled": false,
   "isInternetEnabled": false,
   "language": "python",
   "sourceType": "notebook"
  },
  "kernelspec": {
   "display_name": "Python 3",
   "language": "python",
   "name": "python3"
  },
  "language_info": {
   "codemirror_mode": {
    "name": "ipython",
    "version": 3
   },
   "file_extension": ".py",
   "mimetype": "text/x-python",
   "name": "python",
   "nbconvert_exporter": "python",
   "pygments_lexer": "ipython3",
   "version": "3.10.14"
  },
  "papermill": {
   "default_parameters": {},
   "duration": 11.451084,
   "end_time": "2024-12-07T00:10:23.932930",
   "environment_variables": {},
   "exception": null,
   "input_path": "__notebook__.ipynb",
   "output_path": "__notebook__.ipynb",
   "parameters": {},
   "start_time": "2024-12-07T00:10:12.481846",
   "version": "2.6.0"
  }
 },
 "nbformat": 4,
 "nbformat_minor": 5
}
